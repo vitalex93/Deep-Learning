{
 "cells": [
  {
   "cell_type": "code",
   "execution_count": 4,
   "metadata": {
    "collapsed": true
   },
   "outputs": [
    {
     "ename": "ModuleNotFoundError",
     "evalue": "No module named '_lzma'",
     "output_type": "error",
     "traceback": [
      "\u001b[0;31m---------------------------------------------------------------------------\u001b[0m",
      "\u001b[0;31mModuleNotFoundError\u001b[0m                       Traceback (most recent call last)",
      "\u001b[1;32m/home/vitalex93/Desktop/Data_Science/Deep_Learning/DLproject/Deep-Learning/Project.ipynb Cell 1'\u001b[0m in \u001b[0;36m<cell line: 7>\u001b[0;34m()\u001b[0m\n\u001b[1;32m      <a href='vscode-notebook-cell:/home/vitalex93/Desktop/Data_Science/Deep_Learning/DLproject/Deep-Learning/Project.ipynb#ch0000000?line=4'>5</a>\u001b[0m \u001b[39mimport\u001b[39;00m \u001b[39mtorchaudio\u001b[39;00m\n\u001b[1;32m      <a href='vscode-notebook-cell:/home/vitalex93/Desktop/Data_Science/Deep_Learning/DLproject/Deep-Learning/Project.ipynb#ch0000000?line=5'>6</a>\u001b[0m \u001b[39mfrom\u001b[39;00m \u001b[39mDataset\u001b[39;00m \u001b[39mimport\u001b[39;00m \u001b[39m*\u001b[39m\n\u001b[0;32m----> <a href='vscode-notebook-cell:/home/vitalex93/Desktop/Data_Science/Deep_Learning/DLproject/Deep-Learning/Project.ipynb#ch0000000?line=6'>7</a>\u001b[0m \u001b[39mfrom\u001b[39;00m \u001b[39mVisual\u001b[39;00m \u001b[39mimport\u001b[39;00m \u001b[39m*\u001b[39m\n",
      "File \u001b[0;32m~/Desktop/Data_Science/Deep_Learning/DLproject/Deep-Learning/Visual.py:3\u001b[0m, in \u001b[0;36m<module>\u001b[0;34m\u001b[0m\n\u001b[1;32m      <a href='file:///home/vitalex93/Desktop/Data_Science/Deep_Learning/DLproject/Deep-Learning/Visual.py?line=0'>1</a>\u001b[0m \u001b[39mimport\u001b[39;00m \u001b[39mos\u001b[39;00m\n\u001b[0;32m----> <a href='file:///home/vitalex93/Desktop/Data_Science/Deep_Learning/DLproject/Deep-Learning/Visual.py?line=2'>3</a>\u001b[0m \u001b[39mimport\u001b[39;00m \u001b[39mlibrosa\u001b[39;00m\n\u001b[1;32m      <a href='file:///home/vitalex93/Desktop/Data_Science/Deep_Learning/DLproject/Deep-Learning/Visual.py?line=3'>4</a>\u001b[0m \u001b[39mimport\u001b[39;00m \u001b[39mtorchaudio\u001b[39;00m\n\u001b[1;32m      <a href='file:///home/vitalex93/Desktop/Data_Science/Deep_Learning/DLproject/Deep-Learning/Visual.py?line=4'>5</a>\u001b[0m \u001b[39mimport\u001b[39;00m \u001b[39mmatplotlib\u001b[39;00m\u001b[39m.\u001b[39;00m\u001b[39mpyplot\u001b[39;00m \u001b[39mas\u001b[39;00m \u001b[39mplt\u001b[39;00m\n",
      "File \u001b[0;32m~/.local/lib/python3.10/site-packages/librosa/__init__.py:209\u001b[0m, in \u001b[0;36m<module>\u001b[0;34m\u001b[0m\n\u001b[1;32m    <a href='file:///home/vitalex93/.local/lib/python3.10/site-packages/librosa/__init__.py?line=206'>207</a>\u001b[0m \u001b[39m# And all the librosa sub-modules\u001b[39;00m\n\u001b[1;32m    <a href='file:///home/vitalex93/.local/lib/python3.10/site-packages/librosa/__init__.py?line=207'>208</a>\u001b[0m \u001b[39mfrom\u001b[39;00m \u001b[39m.\u001b[39;00m\u001b[39m_cache\u001b[39;00m \u001b[39mimport\u001b[39;00m cache\n\u001b[0;32m--> <a href='file:///home/vitalex93/.local/lib/python3.10/site-packages/librosa/__init__.py?line=208'>209</a>\u001b[0m \u001b[39mfrom\u001b[39;00m \u001b[39m.\u001b[39;00m \u001b[39mimport\u001b[39;00m core\n\u001b[1;32m    <a href='file:///home/vitalex93/.local/lib/python3.10/site-packages/librosa/__init__.py?line=209'>210</a>\u001b[0m \u001b[39mfrom\u001b[39;00m \u001b[39m.\u001b[39;00m \u001b[39mimport\u001b[39;00m beat\n\u001b[1;32m    <a href='file:///home/vitalex93/.local/lib/python3.10/site-packages/librosa/__init__.py?line=210'>211</a>\u001b[0m \u001b[39mfrom\u001b[39;00m \u001b[39m.\u001b[39;00m \u001b[39mimport\u001b[39;00m decompose\n",
      "File \u001b[0;32m~/.local/lib/python3.10/site-packages/librosa/core/__init__.py:6\u001b[0m, in \u001b[0;36m<module>\u001b[0;34m\u001b[0m\n\u001b[1;32m      <a href='file:///home/vitalex93/.local/lib/python3.10/site-packages/librosa/core/__init__.py?line=2'>3</a>\u001b[0m \u001b[39m\"\"\" Core IO and DSP functions\"\"\"\u001b[39;00m\n\u001b[1;32m      <a href='file:///home/vitalex93/.local/lib/python3.10/site-packages/librosa/core/__init__.py?line=4'>5</a>\u001b[0m \u001b[39mfrom\u001b[39;00m \u001b[39m.\u001b[39;00m\u001b[39mconvert\u001b[39;00m \u001b[39mimport\u001b[39;00m \u001b[39m*\u001b[39m  \u001b[39m# pylint: disable=wildcard-import\u001b[39;00m\n\u001b[0;32m----> <a href='file:///home/vitalex93/.local/lib/python3.10/site-packages/librosa/core/__init__.py?line=5'>6</a>\u001b[0m \u001b[39mfrom\u001b[39;00m \u001b[39m.\u001b[39;00m\u001b[39maudio\u001b[39;00m \u001b[39mimport\u001b[39;00m \u001b[39m*\u001b[39m  \u001b[39m# pylint: disable=wildcard-import\u001b[39;00m\n\u001b[1;32m      <a href='file:///home/vitalex93/.local/lib/python3.10/site-packages/librosa/core/__init__.py?line=6'>7</a>\u001b[0m \u001b[39mfrom\u001b[39;00m \u001b[39m.\u001b[39;00m\u001b[39mspectrum\u001b[39;00m \u001b[39mimport\u001b[39;00m \u001b[39m*\u001b[39m  \u001b[39m# pylint: disable=wildcard-import\u001b[39;00m\n\u001b[1;32m      <a href='file:///home/vitalex93/.local/lib/python3.10/site-packages/librosa/core/__init__.py?line=7'>8</a>\u001b[0m \u001b[39mfrom\u001b[39;00m \u001b[39m.\u001b[39;00m\u001b[39mpitch\u001b[39;00m \u001b[39mimport\u001b[39;00m \u001b[39m*\u001b[39m  \u001b[39m# pylint: disable=wildcard-import\u001b[39;00m\n",
      "File \u001b[0;32m~/.local/lib/python3.10/site-packages/librosa/core/audio.py:18\u001b[0m, in \u001b[0;36m<module>\u001b[0;34m\u001b[0m\n\u001b[1;32m     <a href='file:///home/vitalex93/.local/lib/python3.10/site-packages/librosa/core/audio.py?line=15'>16</a>\u001b[0m \u001b[39mfrom\u001b[39;00m \u001b[39m.\u001b[39;00m\u001b[39mconvert\u001b[39;00m \u001b[39mimport\u001b[39;00m frames_to_samples, time_to_samples\n\u001b[1;32m     <a href='file:///home/vitalex93/.local/lib/python3.10/site-packages/librosa/core/audio.py?line=16'>17</a>\u001b[0m \u001b[39mfrom\u001b[39;00m \u001b[39m.\u001b[39;00m\u001b[39m.\u001b[39;00m\u001b[39m_cache\u001b[39;00m \u001b[39mimport\u001b[39;00m cache\n\u001b[0;32m---> <a href='file:///home/vitalex93/.local/lib/python3.10/site-packages/librosa/core/audio.py?line=17'>18</a>\u001b[0m \u001b[39mfrom\u001b[39;00m \u001b[39m.\u001b[39;00m\u001b[39m.\u001b[39;00m \u001b[39mimport\u001b[39;00m util\n\u001b[1;32m     <a href='file:///home/vitalex93/.local/lib/python3.10/site-packages/librosa/core/audio.py?line=18'>19</a>\u001b[0m \u001b[39mfrom\u001b[39;00m \u001b[39m.\u001b[39;00m\u001b[39m.\u001b[39;00m\u001b[39mutil\u001b[39;00m\u001b[39m.\u001b[39;00m\u001b[39mexceptions\u001b[39;00m \u001b[39mimport\u001b[39;00m ParameterError\n\u001b[1;32m     <a href='file:///home/vitalex93/.local/lib/python3.10/site-packages/librosa/core/audio.py?line=19'>20</a>\u001b[0m \u001b[39mfrom\u001b[39;00m \u001b[39m.\u001b[39;00m\u001b[39m.\u001b[39;00m\u001b[39mutil\u001b[39;00m\u001b[39m.\u001b[39;00m\u001b[39mdecorators\u001b[39;00m \u001b[39mimport\u001b[39;00m deprecate_positional_args\n",
      "File \u001b[0;32m~/.local/lib/python3.10/site-packages/librosa/util/__init__.py:78\u001b[0m, in \u001b[0;36m<module>\u001b[0;34m\u001b[0m\n\u001b[1;32m      <a href='file:///home/vitalex93/.local/lib/python3.10/site-packages/librosa/util/__init__.py?line=2'>3</a>\u001b[0m \u001b[39m\"\"\"\u001b[39;00m\n\u001b[1;32m      <a href='file:///home/vitalex93/.local/lib/python3.10/site-packages/librosa/util/__init__.py?line=3'>4</a>\u001b[0m \u001b[39mUtilities\u001b[39;00m\n\u001b[1;32m      <a href='file:///home/vitalex93/.local/lib/python3.10/site-packages/librosa/util/__init__.py?line=4'>5</a>\u001b[0m \u001b[39m=========\u001b[39;00m\n\u001b[0;32m   (...)\u001b[0m\n\u001b[1;32m     <a href='file:///home/vitalex93/.local/lib/python3.10/site-packages/librosa/util/__init__.py?line=73'>74</a>\u001b[0m \n\u001b[1;32m     <a href='file:///home/vitalex93/.local/lib/python3.10/site-packages/librosa/util/__init__.py?line=74'>75</a>\u001b[0m \u001b[39m\"\"\"\u001b[39;00m\n\u001b[1;32m     <a href='file:///home/vitalex93/.local/lib/python3.10/site-packages/librosa/util/__init__.py?line=76'>77</a>\u001b[0m \u001b[39mfrom\u001b[39;00m \u001b[39m.\u001b[39;00m\u001b[39mutils\u001b[39;00m \u001b[39mimport\u001b[39;00m \u001b[39m*\u001b[39m  \u001b[39m# pylint: disable=wildcard-import\u001b[39;00m\n\u001b[0;32m---> <a href='file:///home/vitalex93/.local/lib/python3.10/site-packages/librosa/util/__init__.py?line=77'>78</a>\u001b[0m \u001b[39mfrom\u001b[39;00m \u001b[39m.\u001b[39;00m\u001b[39mfiles\u001b[39;00m \u001b[39mimport\u001b[39;00m \u001b[39m*\u001b[39m  \u001b[39m# pylint: disable=wildcard-import\u001b[39;00m\n\u001b[1;32m     <a href='file:///home/vitalex93/.local/lib/python3.10/site-packages/librosa/util/__init__.py?line=78'>79</a>\u001b[0m \u001b[39mfrom\u001b[39;00m \u001b[39m.\u001b[39;00m\u001b[39mmatching\u001b[39;00m \u001b[39mimport\u001b[39;00m \u001b[39m*\u001b[39m  \u001b[39m# pylint: disable=wildcard-import\u001b[39;00m\n\u001b[1;32m     <a href='file:///home/vitalex93/.local/lib/python3.10/site-packages/librosa/util/__init__.py?line=79'>80</a>\u001b[0m \u001b[39mfrom\u001b[39;00m \u001b[39m.\u001b[39;00m\u001b[39mdeprecation\u001b[39;00m \u001b[39mimport\u001b[39;00m \u001b[39m*\u001b[39m  \u001b[39m# pylint: disable=wildcard-import\u001b[39;00m\n",
      "File \u001b[0;32m~/.local/lib/python3.10/site-packages/librosa/util/files.py:11\u001b[0m, in \u001b[0;36m<module>\u001b[0;34m\u001b[0m\n\u001b[1;32m      <a href='file:///home/vitalex93/.local/lib/python3.10/site-packages/librosa/util/files.py?line=7'>8</a>\u001b[0m \u001b[39mfrom\u001b[39;00m \u001b[39mpathlib\u001b[39;00m \u001b[39mimport\u001b[39;00m Path\n\u001b[1;32m     <a href='file:///home/vitalex93/.local/lib/python3.10/site-packages/librosa/util/files.py?line=9'>10</a>\u001b[0m \u001b[39mfrom\u001b[39;00m \u001b[39mpkg_resources\u001b[39;00m \u001b[39mimport\u001b[39;00m resource_filename\n\u001b[0;32m---> <a href='file:///home/vitalex93/.local/lib/python3.10/site-packages/librosa/util/files.py?line=10'>11</a>\u001b[0m \u001b[39mimport\u001b[39;00m \u001b[39mpooch\u001b[39;00m\n\u001b[1;32m     <a href='file:///home/vitalex93/.local/lib/python3.10/site-packages/librosa/util/files.py?line=12'>13</a>\u001b[0m \u001b[39mfrom\u001b[39;00m \u001b[39m.\u001b[39;00m\u001b[39mexceptions\u001b[39;00m \u001b[39mimport\u001b[39;00m ParameterError\n\u001b[1;32m     <a href='file:///home/vitalex93/.local/lib/python3.10/site-packages/librosa/util/files.py?line=13'>14</a>\u001b[0m \u001b[39mfrom\u001b[39;00m \u001b[39m.\u001b[39;00m\u001b[39mdecorators\u001b[39;00m \u001b[39mimport\u001b[39;00m deprecate_positional_args\n",
      "File \u001b[0;32m~/.local/lib/python3.10/site-packages/pooch/__init__.py:19\u001b[0m, in \u001b[0;36m<module>\u001b[0;34m\u001b[0m\n\u001b[1;32m     <a href='file:///home/vitalex93/.local/lib/python3.10/site-packages/pooch/__init__.py?line=11'>12</a>\u001b[0m \u001b[39mfrom\u001b[39;00m \u001b[39m.\u001b[39;00m\u001b[39mhashes\u001b[39;00m \u001b[39mimport\u001b[39;00m file_hash, make_registry\n\u001b[1;32m     <a href='file:///home/vitalex93/.local/lib/python3.10/site-packages/pooch/__init__.py?line=12'>13</a>\u001b[0m \u001b[39mfrom\u001b[39;00m \u001b[39m.\u001b[39;00m\u001b[39mdownloaders\u001b[39;00m \u001b[39mimport\u001b[39;00m (\n\u001b[1;32m     <a href='file:///home/vitalex93/.local/lib/python3.10/site-packages/pooch/__init__.py?line=13'>14</a>\u001b[0m     HTTPDownloader,\n\u001b[1;32m     <a href='file:///home/vitalex93/.local/lib/python3.10/site-packages/pooch/__init__.py?line=14'>15</a>\u001b[0m     FTPDownloader,\n\u001b[1;32m     <a href='file:///home/vitalex93/.local/lib/python3.10/site-packages/pooch/__init__.py?line=15'>16</a>\u001b[0m     SFTPDownloader,\n\u001b[1;32m     <a href='file:///home/vitalex93/.local/lib/python3.10/site-packages/pooch/__init__.py?line=16'>17</a>\u001b[0m     DOIDownloader,\n\u001b[1;32m     <a href='file:///home/vitalex93/.local/lib/python3.10/site-packages/pooch/__init__.py?line=17'>18</a>\u001b[0m )\n\u001b[0;32m---> <a href='file:///home/vitalex93/.local/lib/python3.10/site-packages/pooch/__init__.py?line=18'>19</a>\u001b[0m \u001b[39mfrom\u001b[39;00m \u001b[39m.\u001b[39;00m\u001b[39mprocessors\u001b[39;00m \u001b[39mimport\u001b[39;00m Unzip, Untar, Decompress\n\u001b[1;32m     <a href='file:///home/vitalex93/.local/lib/python3.10/site-packages/pooch/__init__.py?line=20'>21</a>\u001b[0m \u001b[39m# This file is generated automatically by setuptools_scm\u001b[39;00m\n\u001b[1;32m     <a href='file:///home/vitalex93/.local/lib/python3.10/site-packages/pooch/__init__.py?line=21'>22</a>\u001b[0m \u001b[39mfrom\u001b[39;00m \u001b[39m.\u001b[39;00m \u001b[39mimport\u001b[39;00m _version\n",
      "File \u001b[0;32m~/.local/lib/python3.10/site-packages/pooch/processors.py:14\u001b[0m, in \u001b[0;36m<module>\u001b[0;34m\u001b[0m\n\u001b[1;32m     <a href='file:///home/vitalex93/.local/lib/python3.10/site-packages/pooch/processors.py?line=11'>12</a>\u001b[0m \u001b[39mimport\u001b[39;00m \u001b[39mbz2\u001b[39;00m\n\u001b[1;32m     <a href='file:///home/vitalex93/.local/lib/python3.10/site-packages/pooch/processors.py?line=12'>13</a>\u001b[0m \u001b[39mimport\u001b[39;00m \u001b[39mgzip\u001b[39;00m\n\u001b[0;32m---> <a href='file:///home/vitalex93/.local/lib/python3.10/site-packages/pooch/processors.py?line=13'>14</a>\u001b[0m \u001b[39mimport\u001b[39;00m \u001b[39mlzma\u001b[39;00m\n\u001b[1;32m     <a href='file:///home/vitalex93/.local/lib/python3.10/site-packages/pooch/processors.py?line=14'>15</a>\u001b[0m \u001b[39mimport\u001b[39;00m \u001b[39mshutil\u001b[39;00m\n\u001b[1;32m     <a href='file:///home/vitalex93/.local/lib/python3.10/site-packages/pooch/processors.py?line=15'>16</a>\u001b[0m \u001b[39mfrom\u001b[39;00m \u001b[39mzipfile\u001b[39;00m \u001b[39mimport\u001b[39;00m ZipFile\n",
      "File \u001b[0;32m/usr/local/lib/python3.10/lzma.py:27\u001b[0m, in \u001b[0;36m<module>\u001b[0;34m\u001b[0m\n\u001b[1;32m     <a href='file:///usr/local/lib/python3.10/lzma.py?line=24'>25</a>\u001b[0m \u001b[39mimport\u001b[39;00m \u001b[39mio\u001b[39;00m\n\u001b[1;32m     <a href='file:///usr/local/lib/python3.10/lzma.py?line=25'>26</a>\u001b[0m \u001b[39mimport\u001b[39;00m \u001b[39mos\u001b[39;00m\n\u001b[0;32m---> <a href='file:///usr/local/lib/python3.10/lzma.py?line=26'>27</a>\u001b[0m \u001b[39mfrom\u001b[39;00m \u001b[39m_lzma\u001b[39;00m \u001b[39mimport\u001b[39;00m \u001b[39m*\u001b[39m\n\u001b[1;32m     <a href='file:///usr/local/lib/python3.10/lzma.py?line=27'>28</a>\u001b[0m \u001b[39mfrom\u001b[39;00m \u001b[39m_lzma\u001b[39;00m \u001b[39mimport\u001b[39;00m _encode_filter_properties, _decode_filter_properties\n\u001b[1;32m     <a href='file:///usr/local/lib/python3.10/lzma.py?line=28'>29</a>\u001b[0m \u001b[39mimport\u001b[39;00m \u001b[39m_compression\u001b[39;00m\n",
      "\u001b[0;31mModuleNotFoundError\u001b[0m: No module named '_lzma'"
     ]
    }
   ],
   "source": [
    "import os\n",
    "import torch\n",
    "from torch.utils.data import Dataset\n",
    "import pandas as pd\n",
    "import torchaudio\n",
    "from Dataset import *\n",
    "from Visual import *\n"
   ]
  },
  {
   "cell_type": "code",
   "execution_count": 11,
   "metadata": {
    "collapsed": false,
    "pycharm": {
     "name": "#%%\n"
    }
   },
   "outputs": [
    {
     "name": "stdout",
     "output_type": "stream",
     "text": [
      "There are 1000 samples in the dataset.\n"
     ]
    }
   ],
   "source": [
    "ANNOTATIONS_FILE = \"/home/vitalex93/Desktop/Data_Science/Deep_Learning/DLproject/Data/features_30_sec.csv\"\n",
    "AUDIO_DIR = \"/home/vitalex93/Desktop/Data_Science/Deep_Learning/DLproject/Data/genres_original/\"\n",
    "SAMPLE_RATE = 16000\n",
    "\n",
    "mel_spectrogram = torchaudio.transforms.MelSpectrogram(\n",
    "    sample_rate=SAMPLE_RATE,\n",
    "    n_fft=1024,\n",
    "    hop_length=512,\n",
    "    n_mels=64\n",
    ")\n",
    "md = MusicSoundDataset(ANNOTATIONS_FILE, AUDIO_DIR, mel_spectrogram,\n",
    "                        SAMPLE_RATE)\n",
    "print(f\"There are {len(md)} samples in the dataset.\")\n",
    "signal, label = md[10]\n"
   ]
  },
  {
   "cell_type": "code",
   "execution_count": 13,
   "metadata": {},
   "outputs": [
    {
     "data": {
      "text/plain": [
       "tensor([[[1.2491e+01, 6.2691e+00, 1.7206e+00,  ..., 2.1292e+00,\n",
       "          4.7534e+00, 1.0126e+01],\n",
       "         [1.6847e+01, 6.9674e+00, 7.4803e-01,  ..., 1.7987e+01,\n",
       "          2.2330e+01, 3.6332e+01],\n",
       "         [1.8271e+01, 1.4363e+00, 4.4958e-01,  ..., 1.0096e+02,\n",
       "          1.1542e+02, 9.3661e+01],\n",
       "         ...,\n",
       "         [5.4971e-02, 3.2134e-03, 1.6135e-03,  ..., 1.8590e-03,\n",
       "          2.5955e-03, 1.4384e-03],\n",
       "         [9.7962e-02, 1.8910e-03, 7.4581e-04,  ..., 9.7030e-04,\n",
       "          1.6034e-03, 6.2106e-04],\n",
       "         [1.2431e-01, 4.2985e-03, 1.5181e-03,  ..., 6.9784e-04,\n",
       "          7.8931e-04, 3.0165e-04]]])"
      ]
     },
     "execution_count": 13,
     "metadata": {},
     "output_type": "execute_result"
    }
   ],
   "source": [
    "plot_mel(signal, SAMPLE_RATE)\n"
   ]
  }
 ],
 "metadata": {
  "kernelspec": {
   "display_name": "Python 3",
   "language": "python",
   "name": "python3"
  },
  "language_info": {
   "codemirror_mode": {
    "name": "ipython",
    "version": 3
   },
   "file_extension": ".py",
   "mimetype": "text/x-python",
   "name": "python",
   "nbconvert_exporter": "python",
   "pygments_lexer": "ipython3",
   "version": "3.10.5"
  }
 },
 "nbformat": 4,
 "nbformat_minor": 0
}
